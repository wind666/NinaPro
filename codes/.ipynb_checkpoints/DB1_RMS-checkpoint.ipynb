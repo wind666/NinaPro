{
 "cells": [
  {
   "cell_type": "markdown",
   "metadata": {},
   "source": [
    "# load data"
   ]
  },
  {
   "cell_type": "code",
   "execution_count": null,
   "metadata": {},
   "outputs": [],
   "source": [
    "# here :\n",
    "''' load .mat file\n",
    "    extract emg signal (exercise B)\n",
    "    downsample to 1 kHz\n",
    "    using a 1st order Butterworth low-pass filter with a 1 Hz cutoff frequency\n",
    "    extend with restimulus matrix as relabeling\n",
    "    also we can remove the begin and the end of every movement\n",
    "    '''"
   ]
  },
  {
   "cell_type": "code",
   "execution_count": null,
   "metadata": {},
   "outputs": [],
   "source": [
    "import pandas as pd\n",
    "import numpy as np\n",
    "from scipy.io import loadmat\n",
    "from sklearn.model_selection import train_test_split\n",
    "from scipy import signal\n",
    "import matplotlib.pyplot as plt\n",
    "%matplotlib inline\n",
    "from window_slider import Slider\n",
    "from sklearn.model_selection import train_test_split\n",
    "from sklearn.preprocessing import StandardScaler\n",
    "from sklearn.pipeline import Pipeline\n",
    "from matplotlib.colors import ListedColormap\n",
    "from sklearn.metrics import accuracy_score\n",
    "from sklearn.neural_network import MLPClassifier\n",
    "from sklearn.model_selection import train_test_split\n",
    "from sklearn.metrics import accuracy_score\n",
    "from sklearn.metrics import confusion_matrix\n",
    "from sklearn.ensemble import RandomForestClassifier as RF\n",
    "from sklearn.datasets import make_classification\n",
    "from sklearn.neighbors import KNeighborsClassifier\n",
    "from sklearn.neighbors import KNeighborsClassifier\n",
    "from sklearn.svm import SVC\n",
    "from sklearn.tree import DecisionTreeClassifier\n",
    "from sklearn.ensemble import RandomForestClassifier, AdaBoostClassifier\n",
    "from sklearn.naive_bayes import GaussianNB\n",
    "from sklearn.discriminant_analysis import LinearDiscriminantAnalysis as LDA\n",
    "from sklearn.discriminant_analysis import QuadraticDiscriminantAnalysis as QDA\n",
    "from sklearn.svm import LinearSVC, SVC\n",
    "\n",
    "#from sklearn.cross_validation import train_test_split\n",
    "\n",
    "from sklearn.datasets import make_moons, make_circles, make_classification"
   ]
  },
  {
   "cell_type": "code",
   "execution_count": 2,
   "metadata": {},
   "outputs": [],
   "source": [
    "#read EMG signals from 10 subjects (DB1,Exercise B) 10 channes and 17+1 classes\n",
    "EMG=[]\n",
    "subject=[]\n",
    "lab=[]\n",
    "for j in range(1,11):\n",
    "    dire=(\"C:/Users/HP/Desktop/git_clone/NinaPro/unzip_data/\"+'S' + str(j) + '_' + 'A1_E2.mat')\n",
    "    ninapro_DB1=loadmat(dire)\n",
    "    \n",
    "    lab.extend(ninapro_DB1['restimulus'])\n",
    "\n",
    "    sub=(ninapro_DB1['subject'])\n",
    "    su=[sub[0][0]]*len(ninapro_DB1['restimulus'])\n",
    "    subject.extend(su)\n",
    "    \n",
    "    EMG.extend(ninapro_DB1['emg'])"
   ]
  },
  {
   "cell_type": "code",
   "execution_count": 3,
   "metadata": {},
   "outputs": [],
   "source": [
    "#2-D array to 2-D list\n",
    "#sub = [[row.flat[0] for row in line] for line in subject]\n",
    "label = [[row.flat[0] for row in line] for line in lab]\n",
    "data = [[row.flat[0] for row in line] for line in EMG]"
   ]
  },
  {
   "cell_type": "code",
   "execution_count": 4,
   "metadata": {},
   "outputs": [
    {
     "data": {
      "text/plain": [
       "((1428756,), (1428756, 10), (1428756,))"
      ]
     },
     "execution_count": 4,
     "metadata": {},
     "output_type": "execute_result"
    }
   ],
   "source": [
    "#change label format to (n_samples,) . Also data format is (n_samples,n_features)\n",
    "label=(np.ravel(label)).tolist()\n",
    "np.shape(label),np.shape(data),np.shape(subject)"
   ]
  },
  {
   "cell_type": "code",
   "execution_count": 5,
   "metadata": {},
   "outputs": [],
   "source": [
    "# down sampling to 1 KHz\n",
    "subject=subject[::2]\n",
    "label=label[::2]\n",
    "data=data[::2]"
   ]
  },
  {
   "cell_type": "code",
   "execution_count": 6,
   "metadata": {},
   "outputs": [],
   "source": [
    "# Define a dictionary containing EMG data \n",
    "dataemg = {'subject': subject,\n",
    "           'label':label,\n",
    "           'data': data}\n",
    "#dataemg"
   ]
  },
  {
   "cell_type": "code",
   "execution_count": null,
   "metadata": {},
   "outputs": [],
   "source": [
    "#make a Dataframes\n",
    "columns_sub = ['subject']\n",
    "columns_label = ['label']\n",
    "columns_data = [ 'ch1','ch2','ch3','ch4','ch5','ch6','ch7','ch8','ch9','ch10']\n",
    "\n",
    "df_subject = pd.DataFrame(subject, columns=columns_sub)\n",
    "df_label= pd.DataFrame(label, columns=columns_label)\n",
    "df_data = pd.DataFrame(data, columns=columns_data)\n",
    "\n",
    "df_subject['label']=df_label\n",
    "df_subject[columns_data]=df_data[columns_data]\n",
    "\n",
    "#df_subject"
   ]
  },
  {
   "cell_type": "code",
   "execution_count": null,
   "metadata": {},
   "outputs": [],
   "source": []
  },
  {
   "cell_type": "markdown",
   "metadata": {},
   "source": [
    "# Windowing"
   ]
  },
  {
   "cell_type": "code",
   "execution_count": null,
   "metadata": {},
   "outputs": [],
   "source": [
    "# here :\n",
    "''' emg signals convert to 100-300 msec windows\n",
    "    \n",
    "    '''"
   ]
  },
  {
   "cell_type": "code",
   "execution_count": 7,
   "metadata": {},
   "outputs": [
    {
     "data": {
      "text/plain": [
       "'#example:\\nlist1 = np.array([0, 1, 2, 3, 4, 5, 6, 7,8,9])\\nwindow(list1,4,2)'"
      ]
     },
     "execution_count": 7,
     "metadata": {},
     "output_type": "execute_result"
    }
   ],
   "source": [
    "\"\"\"Define window function that bucket_size & overlap of windows are as inputs\"\"\"\n",
    "#pip install window-slider\n",
    "from window_slider import Slider\n",
    "def window (list,bucket_size,overlap_count):\n",
    "    wind=[]\n",
    "    #list = np.array([0, 1, 2, 3, 4, 5, 6, 7])\n",
    "    slider = Slider(bucket_size,overlap_count)\n",
    "    slider.fit(list)       \n",
    "    while True:\n",
    "        window_data = (slider.slide()).tolist()\n",
    "        # do your stuff\n",
    "        #print(window_data)\n",
    "        wind.append(window_data)\n",
    "        if slider.reached_end_of_list(): break\n",
    "    return(wind)\n",
    "\"\"\"#example:\n",
    "list1 = np.array([0, 1, 2, 3, 4, 5, 6, 7,8,9])\n",
    "window(list1,4,2)\"\"\""
   ]
  },
  {
   "cell_type": "code",
   "execution_count": 9,
   "metadata": {},
   "outputs": [],
   "source": [
    "\"\"\"found all index in list\"\"\"\n",
    "def all_indices(value, qlist):\n",
    "    indices = []\n",
    "    idx = -1\n",
    "    while True:\n",
    "        try:\n",
    "            idx = qlist.index(value, idx+1)\n",
    "            indices.append(idx)\n",
    "        except ValueError:\n",
    "            break\n",
    "    return indices\n",
    "#class0=all_indices(0,dataemg['label'])\n",
    "#class1=all_indices(1,dataemg['label'])\n",
    "#class2=all_indices(2,dataemg['label'])"
   ]
  },
  {
   "cell_type": "code",
   "execution_count": 11,
   "metadata": {},
   "outputs": [],
   "source": [
    "#make a copy from dataset\n",
    "import copy\n",
    "\n",
    "#emg_17class=dataemg.copy()\n",
    "emg_17class = copy.deepcopy(dataemg)"
   ]
  },
  {
   "cell_type": "code",
   "execution_count": 12,
   "metadata": {},
   "outputs": [],
   "source": [
    "#delete class 0 from dataset\n",
    "for index in sorted(class0, reverse=True):\n",
    "    del emg_17class['subject'][index]\n",
    "    del emg_17class['label'][index]\n",
    "    del emg_17class['data'][index]"
   ]
  },
  {
   "cell_type": "code",
   "execution_count": null,
   "metadata": {},
   "outputs": [],
   "source": [
    "#{i:dict[i] for i in dict}\n",
    "#for i in dict:\n",
    "    #print(i)"
   ]
  },
  {
   "cell_type": "code",
   "execution_count": 15,
   "metadata": {},
   "outputs": [
    {
     "data": {
      "text/plain": [
       "array([ 1,  2,  3,  4,  5,  6,  7,  8,  9, 10, 11, 12, 13, 14, 15, 16, 17])"
      ]
     },
     "execution_count": 15,
     "metadata": {},
     "output_type": "execute_result"
    }
   ],
   "source": [
    "np.unique(emg_17class['label'])"
   ]
  },
  {
   "cell_type": "code",
   "execution_count": null,
   "metadata": {},
   "outputs": [],
   "source": [
    "# windowing all data (problem: in ane window two label)\n",
    "#window data from 10 channel with lengh 200 and overlap 50 sample (f=1KHz)\n",
    "\n",
    "\"\"\"\n",
    "wind_data=window(np.array(emg_17class[\"data\"]).T,200,50)\n",
    "wind_subject=(np.array(emg_17class[\"data\"]).T,200,50)\n",
    "wind_label(np.array(emg_17class[\"data\"]).T,200,50)\n",
    "\n",
    "len(wind),np.shape(wind)\"\"\""
   ]
  },
  {
   "cell_type": "code",
   "execution_count": 77,
   "metadata": {},
   "outputs": [],
   "source": [
    "#windowing data base on their label (200 samples with 50 samples overlap 'f=1KhZ') \n",
    "numner_of_subject=10 #len(np.unique(emg_17class['subject']))\n",
    "number_of_label=17  #len(np.unique(emg_17class['label']))\n",
    "wind_data=[]\n",
    "wind_label=[]\n",
    "wind_subject=[]\n",
    "for su in range(1,numner_of_subject+1):\n",
    "    \n",
    "    m=emg_17class['subject'].index(su)\n",
    "    for la in range(1,number_of_label+1):\n",
    "        #wind_label.append(la)\n",
    "        if (la==number_of_label and su!=numner_of_subject):\n",
    "            b=emg_17class['subject'].index(su+1)\n",
    "        elif(la==number_of_label and su==numner_of_subject):\n",
    "            b=len(emg_17class['label']) \n",
    "        else:\n",
    "            b=emg_17class['label'].index(la+1,m)\n",
    "                \n",
    "        a=emg_17class['label'].index(la,m)\n",
    "        \n",
    "        wind=window(np.array(emg_17class[\"data\"][a:b]).T,200,50)\n",
    "        wind_data.extend(wind)\n",
    "        wind_label.extend([la]*len(wind))\n",
    "        wind_subject.extend([su]*len(wind))\n",
    "#np.shape(wind_data),np.shape(wind_label),np.shape(wind_subject)        "
   ]
  },
  {
   "cell_type": "code",
   "execution_count": null,
   "metadata": {},
   "outputs": [],
   "source": []
  },
  {
   "cell_type": "markdown",
   "metadata": {},
   "source": [
    "# Features"
   ]
  },
  {
   "cell_type": "code",
   "execution_count": null,
   "metadata": {},
   "outputs": [],
   "source": [
    "# here :\n",
    "''' extract our feature from windows of emg signals\n",
    "    RMS,mDWT,HIST,TD, combine of all\n",
    "    also plot scattering plot\n",
    "    conver to gray image\n",
    "    '''"
   ]
  },
  {
   "cell_type": "code",
   "execution_count": 131,
   "metadata": {},
   "outputs": [
    {
     "data": {
      "text/plain": [
       "((2042, 10), (10, 200))"
      ]
     },
     "execution_count": 131,
     "metadata": {},
     "output_type": "execute_result"
    }
   ],
   "source": [
    "np.shape(wind_data),np.shape(wind_data[0]) # wind_data[0] is number of channel*number of samples in each sample \n",
    "# & wind_data is number of windows*number of channels (that every channel contain a window (200 sample))"
   ]
  },
  {
   "cell_type": "code",
   "execution_count": 137,
   "metadata": {},
   "outputs": [],
   "source": [
    "RMS=[]\n",
    "\n",
    "for i in range(len(wind_data)):\n",
    "    for j in range(len(wind_data[i])):\n",
    "        RMS.append(np.sqrt(np.mean(list(map(lambda x:pow(x,2),wind_data[i][j])))))\n",
    "RMS=(np.reshape(RMS,(len(wind_data),len(wind_data[0])))).tolist()"
   ]
  },
  {
   "cell_type": "code",
   "execution_count": 138,
   "metadata": {},
   "outputs": [
    {
     "data": {
      "text/plain": [
       "(2042, 10)"
      ]
     },
     "execution_count": 138,
     "metadata": {},
     "output_type": "execute_result"
    }
   ],
   "source": [
    "np.shape(RMS)"
   ]
  },
  {
   "cell_type": "code",
   "execution_count": null,
   "metadata": {},
   "outputs": [],
   "source": []
  },
  {
   "cell_type": "markdown",
   "metadata": {},
   "source": [
    "# PCA"
   ]
  },
  {
   "cell_type": "code",
   "execution_count": null,
   "metadata": {},
   "outputs": [],
   "source": []
  },
  {
   "cell_type": "code",
   "execution_count": null,
   "metadata": {},
   "outputs": [],
   "source": []
  },
  {
   "cell_type": "markdown",
   "metadata": {},
   "source": [
    "# Classifiers"
   ]
  },
  {
   "cell_type": "code",
   "execution_count": 141,
   "metadata": {},
   "outputs": [
    {
     "name": "stdout",
     "output_type": "stream",
     "text": [
      "(302268, 10) (302268,)\n"
     ]
    },
    {
     "data": {
      "text/plain": [
       "((2042, 10), (2042,))"
      ]
     },
     "execution_count": 141,
     "metadata": {},
     "output_type": "execute_result"
    }
   ],
   "source": [
    "print(np.shape(emg_17class['data']),np.shape(emg_17class['label']))\n",
    "np.shape(RMS),np.shape(wind_label)\n"
   ]
  },
  {
   "cell_type": "code",
   "execution_count": 155,
   "metadata": {},
   "outputs": [
    {
     "data": {
      "text/plain": [
       "((1531, 10), (1531,), (511, 10), (511,))"
      ]
     },
     "execution_count": 155,
     "metadata": {},
     "output_type": "execute_result"
    }
   ],
   "source": [
    "from sklearn.model_selection import train_test_split\n",
    "x_train , x_test,y_train,y_test=train_test_split(RMS , wind_label,test_size=0.25,random_state=42,stratify=wind_label) \n",
    "np.shape(x_train),np.shape(y_train),np.shape(x_test),np.shape(y_test)"
   ]
  },
  {
   "cell_type": "code",
   "execution_count": 156,
   "metadata": {},
   "outputs": [
    {
     "name": "stdout",
     "output_type": "stream",
     "text": [
      "Iteration 1, loss = 2.87396851\n",
      "Iteration 2, loss = 2.84488483\n",
      "Iteration 3, loss = 2.82349642\n",
      "Iteration 4, loss = 2.80626116\n",
      "Iteration 5, loss = 2.79061632\n",
      "Iteration 6, loss = 2.77579228\n",
      "Iteration 7, loss = 2.75984470\n",
      "Iteration 8, loss = 2.74375251\n",
      "Iteration 9, loss = 2.72566084\n",
      "Iteration 10, loss = 2.70642891\n",
      "Iteration 11, loss = 2.68612092\n",
      "Iteration 12, loss = 2.66573531\n",
      "Iteration 13, loss = 2.64280107\n",
      "Iteration 14, loss = 2.62065294\n",
      "Iteration 15, loss = 2.59755308\n",
      "Iteration 16, loss = 2.57604284\n",
      "Iteration 17, loss = 2.55488684\n",
      "Iteration 18, loss = 2.53351365\n",
      "Iteration 19, loss = 2.51118032\n",
      "Iteration 20, loss = 2.48785985\n",
      "Iteration 21, loss = 2.46587157\n",
      "Iteration 22, loss = 2.44290794\n",
      "Iteration 23, loss = 2.42113647\n",
      "Iteration 24, loss = 2.39845218\n",
      "Iteration 25, loss = 2.37662729\n",
      "Iteration 26, loss = 2.35571668\n",
      "Iteration 27, loss = 2.33446902\n",
      "Iteration 28, loss = 2.31396282\n",
      "Iteration 29, loss = 2.29437566\n",
      "Iteration 30, loss = 2.27493748\n",
      "Iteration 31, loss = 2.25624870\n",
      "Iteration 32, loss = 2.23842718\n",
      "Iteration 33, loss = 2.22109318\n",
      "Iteration 34, loss = 2.20371626\n",
      "Iteration 35, loss = 2.18745530\n",
      "Iteration 36, loss = 2.17198877\n",
      "Iteration 37, loss = 2.15757284\n",
      "Iteration 38, loss = 2.14218684\n",
      "Iteration 39, loss = 2.12791892\n",
      "Iteration 40, loss = 2.11463946\n",
      "Iteration 41, loss = 2.10090264\n",
      "Iteration 42, loss = 2.08897501\n",
      "Iteration 43, loss = 2.07668089\n",
      "Iteration 44, loss = 2.06432042\n",
      "Iteration 45, loss = 2.05201492\n",
      "Iteration 46, loss = 2.04075077\n",
      "Iteration 47, loss = 2.02935332\n",
      "Iteration 48, loss = 2.01822489\n",
      "Iteration 49, loss = 2.00741582\n",
      "Iteration 50, loss = 1.99628063\n",
      "Iteration 51, loss = 1.98628605\n",
      "Iteration 52, loss = 1.97648612\n",
      "Iteration 53, loss = 1.96674608\n",
      "Iteration 54, loss = 1.95739393\n",
      "Iteration 55, loss = 1.94795826\n",
      "Iteration 56, loss = 1.93935211\n",
      "Iteration 57, loss = 1.93071778\n",
      "Iteration 58, loss = 1.92221733\n",
      "Iteration 59, loss = 1.91297993\n",
      "Iteration 60, loss = 1.90600191\n",
      "Iteration 61, loss = 1.89788719\n",
      "Iteration 62, loss = 1.89025300\n",
      "Iteration 63, loss = 1.88200663\n",
      "Iteration 64, loss = 1.87551300\n",
      "Iteration 65, loss = 1.86693789\n",
      "Iteration 66, loss = 1.86053810\n",
      "Iteration 67, loss = 1.85415585\n",
      "Iteration 68, loss = 1.84575318\n",
      "Iteration 69, loss = 1.83927598\n",
      "Iteration 70, loss = 1.83178144\n",
      "Iteration 71, loss = 1.82572588\n",
      "Iteration 72, loss = 1.82022003\n",
      "Iteration 73, loss = 1.81370788\n",
      "Iteration 74, loss = 1.80610867\n",
      "Iteration 75, loss = 1.79954728\n",
      "Iteration 76, loss = 1.79418578\n",
      "Iteration 77, loss = 1.78812478\n",
      "Iteration 78, loss = 1.78181642\n",
      "Iteration 79, loss = 1.77571368\n",
      "Iteration 80, loss = 1.76908731\n",
      "Iteration 81, loss = 1.76318105\n",
      "Iteration 82, loss = 1.75747122\n",
      "Iteration 83, loss = 1.75197239\n",
      "Iteration 84, loss = 1.74648272\n",
      "Iteration 85, loss = 1.74086213\n",
      "Iteration 86, loss = 1.73561342\n",
      "Iteration 87, loss = 1.72909829\n",
      "Iteration 88, loss = 1.72552745\n",
      "Iteration 89, loss = 1.71752677\n",
      "Iteration 90, loss = 1.71283394\n",
      "Iteration 91, loss = 1.70783140\n",
      "Iteration 92, loss = 1.70239916\n",
      "Iteration 93, loss = 1.69677316\n",
      "Iteration 94, loss = 1.69116315\n",
      "Iteration 95, loss = 1.68579813\n",
      "Iteration 96, loss = 1.68062524\n",
      "Iteration 97, loss = 1.67664641\n",
      "Iteration 98, loss = 1.67073415\n",
      "Iteration 99, loss = 1.66525533\n",
      "Iteration 100, loss = 1.66092239\n",
      "Iteration 101, loss = 1.65558087\n",
      "Iteration 102, loss = 1.65056301\n",
      "Iteration 103, loss = 1.64644941\n",
      "Iteration 104, loss = 1.64204427\n",
      "Iteration 105, loss = 1.63622413\n",
      "Iteration 106, loss = 1.63239408\n",
      "Iteration 107, loss = 1.62648478\n",
      "Iteration 108, loss = 1.62253388\n",
      "Iteration 109, loss = 1.61853257\n",
      "Iteration 110, loss = 1.61320029\n",
      "Iteration 111, loss = 1.60880271\n",
      "Iteration 112, loss = 1.60562753\n",
      "Iteration 113, loss = 1.60102373\n",
      "Iteration 114, loss = 1.59687001\n",
      "Iteration 115, loss = 1.59218901\n",
      "Iteration 116, loss = 1.58746223\n",
      "Iteration 117, loss = 1.58296868\n",
      "Iteration 118, loss = 1.57963287\n",
      "Iteration 119, loss = 1.57624357\n",
      "Iteration 120, loss = 1.57077547\n",
      "Iteration 121, loss = 1.56689771\n",
      "Iteration 122, loss = 1.56173329\n",
      "Iteration 123, loss = 1.55924037\n",
      "Iteration 124, loss = 1.55519512\n",
      "Iteration 125, loss = 1.55115971\n",
      "Iteration 126, loss = 1.54675866\n",
      "Iteration 127, loss = 1.54251253\n",
      "Iteration 128, loss = 1.53938554\n",
      "Iteration 129, loss = 1.53538199\n",
      "Iteration 130, loss = 1.53159429\n",
      "Iteration 131, loss = 1.52705193\n",
      "Iteration 132, loss = 1.52318786\n",
      "Iteration 133, loss = 1.52089792\n",
      "Iteration 134, loss = 1.51557332\n",
      "Iteration 135, loss = 1.51180785\n",
      "Iteration 136, loss = 1.50840697\n",
      "Iteration 137, loss = 1.50411794\n",
      "Iteration 138, loss = 1.50042946\n",
      "Iteration 139, loss = 1.49671943\n",
      "Iteration 140, loss = 1.49304671\n",
      "Iteration 141, loss = 1.48974623\n",
      "Iteration 142, loss = 1.48587208\n",
      "Iteration 143, loss = 1.48320760\n",
      "Iteration 144, loss = 1.47804943\n",
      "Iteration 145, loss = 1.47451338\n",
      "Iteration 146, loss = 1.47113328\n",
      "Iteration 147, loss = 1.46767244\n",
      "Iteration 148, loss = 1.46538547\n",
      "Iteration 149, loss = 1.46043018\n",
      "Iteration 150, loss = 1.45721105\n",
      "Iteration 151, loss = 1.45336672\n",
      "Iteration 152, loss = 1.44955349\n",
      "Iteration 153, loss = 1.44745424\n",
      "Iteration 154, loss = 1.44325739\n",
      "Iteration 155, loss = 1.44063629\n",
      "Iteration 156, loss = 1.43600940\n",
      "Iteration 157, loss = 1.43393556\n",
      "Iteration 158, loss = 1.42993956\n",
      "Iteration 159, loss = 1.42678037\n",
      "Iteration 160, loss = 1.42326494\n",
      "Iteration 161, loss = 1.42093881\n",
      "Iteration 162, loss = 1.41739237\n",
      "Iteration 163, loss = 1.41395979\n",
      "Iteration 164, loss = 1.41146878\n",
      "Iteration 165, loss = 1.40736913\n",
      "Iteration 166, loss = 1.40456668\n",
      "Iteration 167, loss = 1.40276000\n",
      "Iteration 168, loss = 1.39918955\n",
      "Iteration 169, loss = 1.39552659\n",
      "Iteration 170, loss = 1.39213336\n",
      "Iteration 171, loss = 1.38916114\n",
      "Iteration 172, loss = 1.38612300\n",
      "Iteration 173, loss = 1.38202344\n",
      "Iteration 174, loss = 1.37981171\n",
      "Iteration 175, loss = 1.37700038\n",
      "Iteration 176, loss = 1.37433791\n",
      "Iteration 177, loss = 1.37141426\n",
      "Iteration 178, loss = 1.36772798\n",
      "Iteration 179, loss = 1.36565117\n",
      "Iteration 180, loss = 1.36196437\n",
      "Iteration 181, loss = 1.35914527\n",
      "Iteration 182, loss = 1.35698532\n",
      "Iteration 183, loss = 1.35300835\n",
      "Iteration 184, loss = 1.35113739\n",
      "Iteration 185, loss = 1.34718555\n",
      "Iteration 186, loss = 1.34444393\n",
      "Iteration 187, loss = 1.34147813\n",
      "Iteration 188, loss = 1.33911174\n",
      "Iteration 189, loss = 1.33505191\n",
      "Iteration 190, loss = 1.33293625\n",
      "Iteration 191, loss = 1.33053510\n",
      "Iteration 192, loss = 1.32726118\n",
      "Iteration 193, loss = 1.32438461\n",
      "Iteration 194, loss = 1.32258067\n",
      "Iteration 195, loss = 1.31961558\n",
      "Iteration 196, loss = 1.31637227\n",
      "Iteration 197, loss = 1.31335441\n",
      "Iteration 198, loss = 1.31068281\n",
      "Iteration 199, loss = 1.30898244\n",
      "Iteration 200, loss = 1.30552336\n",
      "Iteration 201, loss = 1.30212600\n",
      "Iteration 202, loss = 1.30039037\n",
      "Iteration 203, loss = 1.29656266\n",
      "Iteration 204, loss = 1.29410328\n",
      "Iteration 205, loss = 1.29048073\n",
      "Iteration 206, loss = 1.28806381\n",
      "Iteration 207, loss = 1.28556043\n",
      "Iteration 208, loss = 1.28319010\n",
      "Iteration 209, loss = 1.27969861\n",
      "Iteration 210, loss = 1.27883381\n",
      "Iteration 211, loss = 1.27518160\n",
      "Iteration 212, loss = 1.27339016\n",
      "Iteration 213, loss = 1.27106305\n",
      "Iteration 214, loss = 1.26709565\n",
      "Iteration 215, loss = 1.26391421\n",
      "Iteration 216, loss = 1.26268427\n",
      "Iteration 217, loss = 1.25987733\n",
      "Iteration 218, loss = 1.25562233\n",
      "Iteration 219, loss = 1.25388442\n",
      "Iteration 220, loss = 1.25013063\n",
      "Iteration 221, loss = 1.24816285\n",
      "Iteration 222, loss = 1.24492872\n",
      "Iteration 223, loss = 1.24270713\n",
      "Iteration 224, loss = 1.23926267\n",
      "Iteration 225, loss = 1.23669420\n",
      "Iteration 226, loss = 1.23523816\n",
      "Iteration 227, loss = 1.23134713\n",
      "Iteration 228, loss = 1.22817280\n",
      "Iteration 229, loss = 1.22732108\n",
      "Iteration 230, loss = 1.22332814\n",
      "Iteration 231, loss = 1.22123098\n",
      "Iteration 232, loss = 1.21925322\n",
      "Iteration 233, loss = 1.21507277\n",
      "Iteration 234, loss = 1.21263778\n",
      "Iteration 235, loss = 1.21059608\n",
      "Iteration 236, loss = 1.20626682\n",
      "Iteration 237, loss = 1.20652315\n",
      "Iteration 238, loss = 1.20181648\n",
      "Iteration 239, loss = 1.19926886\n",
      "Iteration 240, loss = 1.19611188\n",
      "Iteration 241, loss = 1.19605967\n",
      "Iteration 242, loss = 1.19023219\n",
      "Iteration 243, loss = 1.18820008\n",
      "Iteration 244, loss = 1.18601927\n",
      "Iteration 245, loss = 1.18456179\n",
      "Iteration 246, loss = 1.18161371\n",
      "Iteration 247, loss = 1.17844268\n",
      "Iteration 248, loss = 1.17642400\n",
      "Iteration 249, loss = 1.17256214\n",
      "Iteration 250, loss = 1.17061971\n",
      "Iteration 251, loss = 1.16677315\n",
      "Iteration 252, loss = 1.16577018\n",
      "Iteration 253, loss = 1.16268152\n"
     ]
    },
    {
     "name": "stdout",
     "output_type": "stream",
     "text": [
      "Iteration 254, loss = 1.16150295\n",
      "Iteration 255, loss = 1.15817094\n",
      "Iteration 256, loss = 1.15397072\n",
      "Iteration 257, loss = 1.15141694\n",
      "Iteration 258, loss = 1.14922579\n",
      "Iteration 259, loss = 1.14590064\n",
      "Iteration 260, loss = 1.14384643\n",
      "Iteration 261, loss = 1.14170019\n",
      "Iteration 262, loss = 1.13873179\n",
      "Iteration 263, loss = 1.13653041\n",
      "Iteration 264, loss = 1.13370981\n",
      "Iteration 265, loss = 1.13188068\n",
      "Iteration 266, loss = 1.13107626\n",
      "Iteration 267, loss = 1.12810753\n",
      "Iteration 268, loss = 1.12478753\n",
      "Iteration 269, loss = 1.12130682\n",
      "Iteration 270, loss = 1.11934229\n",
      "Iteration 271, loss = 1.11825355\n",
      "Iteration 272, loss = 1.11372536\n",
      "Iteration 273, loss = 1.11228792\n",
      "Iteration 274, loss = 1.10884103\n",
      "Iteration 275, loss = 1.10707985\n",
      "Iteration 276, loss = 1.10544294\n",
      "Iteration 277, loss = 1.10248063\n",
      "Iteration 278, loss = 1.09987605\n",
      "Iteration 279, loss = 1.09738113\n",
      "Iteration 280, loss = 1.09462239\n",
      "Iteration 281, loss = 1.09147906\n",
      "Iteration 282, loss = 1.08994488\n",
      "Iteration 283, loss = 1.08707343\n",
      "Iteration 284, loss = 1.08511935\n",
      "Iteration 285, loss = 1.08179242\n",
      "Iteration 286, loss = 1.08017639\n",
      "Iteration 287, loss = 1.07748751\n",
      "Iteration 288, loss = 1.07495097\n",
      "Iteration 289, loss = 1.07378281\n",
      "Iteration 290, loss = 1.07138470\n",
      "Iteration 291, loss = 1.06801899\n",
      "Iteration 292, loss = 1.06554596\n",
      "Iteration 293, loss = 1.06445423\n",
      "Iteration 294, loss = 1.06151362\n",
      "Iteration 295, loss = 1.06131664\n",
      "Iteration 296, loss = 1.05722433\n",
      "Iteration 297, loss = 1.05505636\n",
      "Iteration 298, loss = 1.05264607\n",
      "Iteration 299, loss = 1.05020811\n",
      "Iteration 300, loss = 1.04820603\n"
     ]
    },
    {
     "name": "stderr",
     "output_type": "stream",
     "text": [
      "d:\\ProgramData\\Anaconda3\\lib\\site-packages\\sklearn\\neural_network\\multilayer_perceptron.py:566: ConvergenceWarning: Stochastic Optimizer: Maximum iterations (300) reached and the optimization hasn't converged yet.\n",
      "  % self.max_iter, ConvergenceWarning)\n"
     ]
    },
    {
     "data": {
      "text/plain": [
       "MLPClassifier(activation='relu', alpha=0.002, batch_size='auto', beta_1=0.9,\n",
       "              beta_2=0.999, early_stopping=False, epsilon=1e-08,\n",
       "              hidden_layer_sizes=(25, 20), learning_rate='constant',\n",
       "              learning_rate_init=0.001, max_iter=300, momentum=0.9,\n",
       "              n_iter_no_change=10, nesterovs_momentum=True, power_t=0.5,\n",
       "              random_state=None, shuffle=True, solver='adam', tol=0.0001,\n",
       "              validation_fraction=0.1, verbose=True, warm_start=False)"
      ]
     },
     "execution_count": 156,
     "metadata": {},
     "output_type": "execute_result"
    }
   ],
   "source": [
    "#MLP\n",
    "from sklearn.neural_network import MLPClassifier\n",
    "\n",
    "clf=MLPClassifier(hidden_layer_sizes=(25,20),alpha=0.002,verbose=True ,  max_iter=300)\n",
    "#clf=MLPClassifier(hidden_layer_sizes=(100),alpha=0.002,verbose=True ,  max_iter=300)\n",
    "clf.fit(x_train,y_train)\n"
   ]
  },
  {
   "cell_type": "code",
   "execution_count": 166,
   "metadata": {},
   "outputs": [],
   "source": [
    "y_pred=clf.predict(x_test)"
   ]
  },
  {
   "cell_type": "code",
   "execution_count": 167,
   "metadata": {},
   "outputs": [
    {
     "name": "stdout",
     "output_type": "stream",
     "text": [
      "accuracy = 0.51\n"
     ]
    }
   ],
   "source": [
    "from sklearn.metrics import accuracy_score\n",
    "print(\"accuracy = %.2f\"%accuracy_score(y_test,y_pred))"
   ]
  },
  {
   "cell_type": "code",
   "execution_count": 174,
   "metadata": {},
   "outputs": [
    {
     "name": "stdout",
     "output_type": "stream",
     "text": [
      "accuracy of test data=0.51\n"
     ]
    }
   ],
   "source": [
    "accuracy=np.mean(y_pred==y_test)\n",
    "print(\"accuracy of test data=%.2f\" %accuracy)"
   ]
  },
  {
   "cell_type": "code",
   "execution_count": 173,
   "metadata": {},
   "outputs": [
    {
     "name": "stdout",
     "output_type": "stream",
     "text": [
      "accuracy of train data=0.65\n"
     ]
    }
   ],
   "source": [
    "y_pred_train=clf.predict(x_train)\n",
    "accuracy=np.mean(y_pred_train==y_train)\n",
    "print(\"accuracy of train data=%.2f\" %accuracy)"
   ]
  },
  {
   "cell_type": "code",
   "execution_count": 170,
   "metadata": {},
   "outputs": [
    {
     "data": {
      "image/png": "[encoded data removed]",
      "text/plain": [
       "<Figure size 576x576 with 2 Axes>"
      ]
     },
     "metadata": {
      "needs_background": "light"
     },
     "output_type": "display_data"
    }
   ],
   "source": [
    "import matplotlib.pyplot as plt\n",
    "%matplotlib inline\n",
    "from sklearn.metrics import confusion_matrix\n",
    "cm=confusion_matrix(y_test,y_pred, labels=np.unique(y_test))\n",
    "plt.figure(figsize=(8,8))\n",
    "plt.imshow(cm,cmap=plt.cm.Blues,interpolation='nearest')\n",
    "plt.xticks(range(17))\n",
    "plt.yticks(range(17))\n",
    "plt.colorbar()\n",
    "plt.show()"
   ]
  },
  {
   "cell_type": "code",
   "execution_count": null,
   "metadata": {},
   "outputs": [],
   "source": [
    "\n"
   ]
  },
  {
   "cell_type": "code",
   "execution_count": 175,
   "metadata": {},
   "outputs": [
    {
     "data": {
      "text/plain": [
       "LinearDiscriminantAnalysis(n_components=None, priors=None, shrinkage=None,\n",
       "                           solver='svd', store_covariance=False, tol=0.0001)"
      ]
     },
     "execution_count": 175,
     "metadata": {},
     "output_type": "execute_result"
    }
   ],
   "source": [
    "#LDA\n",
    "from sklearn.discriminant_analysis import LinearDiscriminantAnalysis as LDA\n",
    "clf=LDA()\n",
    "clf.fit(x_train,y_train)"
   ]
  },
  {
   "cell_type": "code",
   "execution_count": 176,
   "metadata": {},
   "outputs": [],
   "source": [
    "y_pred=clf.predict(x_test)"
   ]
  },
  {
   "cell_type": "code",
   "execution_count": 177,
   "metadata": {},
   "outputs": [
    {
     "name": "stdout",
     "output_type": "stream",
     "text": [
      "accuracy of test data=0.27\n"
     ]
    }
   ],
   "source": [
    "accuracy=np.mean(y_pred==y_test)\n",
    "print(\"accuracy of test data=%.2f\" %accuracy)"
   ]
  },
  {
   "cell_type": "code",
   "execution_count": 178,
   "metadata": {},
   "outputs": [
    {
     "name": "stdout",
     "output_type": "stream",
     "text": [
      "accuracy of train data=0.33\n"
     ]
    }
   ],
   "source": [
    "y_pred_train=clf.predict(x_train)\n",
    "accuracy=np.mean(y_pred_train==y_train)\n",
    "print(\"accuracy of train data=%.2f\" %accuracy)"
   ]
  },
  {
   "cell_type": "code",
   "execution_count": 179,
   "metadata": {},
   "outputs": [
    {
     "data": {
      "text/plain": [
       "QuadraticDiscriminantAnalysis(priors=None, reg_param=0.0,\n",
       "                              store_covariance=False, tol=0.0001)"
      ]
     },
     "execution_count": 179,
     "metadata": {},
     "output_type": "execute_result"
    }
   ],
   "source": [
    "#QDA\n",
    "from sklearn.discriminant_analysis import QuadraticDiscriminantAnalysis as QDA\n",
    "clf=QDA()\n",
    "clf.fit(x_train,y_train)"
   ]
  },
  {
   "cell_type": "code",
   "execution_count": 181,
   "metadata": {},
   "outputs": [
    {
     "name": "stdout",
     "output_type": "stream",
     "text": [
      "accuracy of test data=0.55\n"
     ]
    }
   ],
   "source": [
    "y_pred=clf.predict(x_test)\n",
    "accuracy=np.mean(y_pred==y_test)\n",
    "print(\"accuracy of test data=%.2f\" %accuracy)"
   ]
  },
  {
   "cell_type": "code",
   "execution_count": 182,
   "metadata": {},
   "outputs": [
    {
     "name": "stdout",
     "output_type": "stream",
     "text": [
      "accuracy of train data=0.67\n"
     ]
    }
   ],
   "source": [
    "y_pred_train=clf.predict(x_train)\n",
    "accuracy=np.mean(y_pred_train==y_train)\n",
    "print(\"accuracy of train data=%.2f\" %accuracy)"
   ]
  },
  {
   "cell_type": "code",
   "execution_count": 183,
   "metadata": {},
   "outputs": [
    {
     "name": "stderr",
     "output_type": "stream",
     "text": [
      "d:\\ProgramData\\Anaconda3\\lib\\site-packages\\sklearn\\ensemble\\forest.py:245: FutureWarning: The default value of n_estimators will change from 10 in version 0.20 to 100 in 0.22.\n",
      "  \"10 in version 0.20 to 100 in 0.22.\", FutureWarning)\n"
     ]
    },
    {
     "data": {
      "text/plain": [
       "RandomForestClassifier(bootstrap=True, class_weight=None, criterion='gini',\n",
       "                       max_depth=200, max_features='auto', max_leaf_nodes=None,\n",
       "                       min_impurity_decrease=0.0, min_impurity_split=None,\n",
       "                       min_samples_leaf=1, min_samples_split=2,\n",
       "                       min_weight_fraction_leaf=0.0, n_estimators=10,\n",
       "                       n_jobs=None, oob_score=False, random_state=0, verbose=0,\n",
       "                       warm_start=False)"
      ]
     },
     "execution_count": 183,
     "metadata": {},
     "output_type": "execute_result"
    }
   ],
   "source": [
    "#RF\n",
    "from sklearn.ensemble import RandomForestClassifier as RF\n",
    "clf = RF(max_depth=200, random_state=0)\n",
    "clf.fit(x_train,y_train)"
   ]
  },
  {
   "cell_type": "code",
   "execution_count": 184,
   "metadata": {},
   "outputs": [
    {
     "name": "stdout",
     "output_type": "stream",
     "text": [
      "accuracy of test data=0.75\n"
     ]
    }
   ],
   "source": [
    "y_pred=clf.predict(x_test)\n",
    "accuracy=np.mean(y_pred==y_test)\n",
    "print(\"accuracy of test data=%.2f\" %accuracy)"
   ]
  },
  {
   "cell_type": "code",
   "execution_count": 185,
   "metadata": {},
   "outputs": [
    {
     "name": "stdout",
     "output_type": "stream",
     "text": [
      "accuracy of train data=1.00\n"
     ]
    }
   ],
   "source": [
    "y_pred_train=clf.predict(x_train)\n",
    "accuracy=np.mean(y_pred_train==y_train)\n",
    "print(\"accuracy of train data=%.2f\" %accuracy)"
   ]
  },
  {
   "cell_type": "code",
   "execution_count": 186,
   "metadata": {},
   "outputs": [
    {
     "data": {
      "text/plain": [
       "KNeighborsClassifier(algorithm='auto', leaf_size=30, metric='minkowski',\n",
       "                     metric_params=None, n_jobs=None, n_neighbors=3, p=2,\n",
       "                     weights='uniform')"
      ]
     },
     "execution_count": 186,
     "metadata": {},
     "output_type": "execute_result"
    }
   ],
   "source": [
    "#KNN\n",
    "from sklearn.neighbors import KNeighborsClassifier\n",
    "clf = KNeighborsClassifier(n_neighbors=3)\n",
    "clf.fit(x_train,y_train)"
   ]
  },
  {
   "cell_type": "code",
   "execution_count": 187,
   "metadata": {},
   "outputs": [
    {
     "name": "stdout",
     "output_type": "stream",
     "text": [
      "accuracy of test data=0.78\n"
     ]
    }
   ],
   "source": [
    "y_pred=clf.predict(x_test)\n",
    "accuracy=np.mean(y_pred==y_test)\n",
    "print(\"accuracy of test data=%.2f\" %accuracy)"
   ]
  },
  {
   "cell_type": "code",
   "execution_count": 188,
   "metadata": {},
   "outputs": [
    {
     "name": "stdout",
     "output_type": "stream",
     "text": [
      "accuracy of train data=0.91\n"
     ]
    }
   ],
   "source": [
    "y_pred_train=clf.predict(x_train)\n",
    "accuracy=np.mean(y_pred_train==y_train)\n",
    "print(\"accuracy of train data=%.2f\" %accuracy)"
   ]
  },
  {
   "cell_type": "code",
   "execution_count": 192,
   "metadata": {},
   "outputs": [
    {
     "name": "stderr",
     "output_type": "stream",
     "text": [
      "d:\\ProgramData\\Anaconda3\\lib\\site-packages\\sklearn\\svm\\base.py:193: FutureWarning: The default value of gamma will change from 'auto' to 'scale' in version 0.22 to account better for unscaled features. Set gamma explicitly to 'auto' or 'scale' to avoid this warning.\n",
      "  \"avoid this warning.\", FutureWarning)\n"
     ]
    },
    {
     "data": {
      "text/plain": [
       "SVC(C=1, cache_size=200, class_weight=None, coef0=0.0,\n",
       "    decision_function_shape='ovo', degree=3, gamma='auto_deprecated',\n",
       "    kernel='rbf', max_iter=-1, probability=False, random_state=None,\n",
       "    shrinking=True, tol=0.001, verbose=False)"
      ]
     },
     "execution_count": 192,
     "metadata": {},
     "output_type": "execute_result"
    }
   ],
   "source": [
    "#SVM\n",
    "from sklearn import svm\n",
    "clf = svm.SVC(decision_function_shape='ovo',kernel='rbf',C=1,gamma=2)\n",
    "#clf = SVC(kernel='rbf', gamma='scale')\n",
    "\n",
    "clf.fit(x_train,y_train)\n",
    "#clf.fit(x_train,y_train,kernel='rbf')"
   ]
  },
  {
   "cell_type": "code",
   "execution_count": 193,
   "metadata": {},
   "outputs": [
    {
     "name": "stdout",
     "output_type": "stream",
     "text": [
      "accuracy of test data=0.33\n"
     ]
    }
   ],
   "source": [
    "y_pred=clf.predict(x_test)\n",
    "accuracy=np.mean(y_pred==y_test)\n",
    "print(\"accuracy of test data=%.2f\" %accuracy)"
   ]
  },
  {
   "cell_type": "code",
   "execution_count": 194,
   "metadata": {},
   "outputs": [
    {
     "name": "stdout",
     "output_type": "stream",
     "text": [
      "accuracy of train data=0.41\n"
     ]
    }
   ],
   "source": [
    "y_pred_train=clf.predict(x_train)\n",
    "accuracy=np.mean(y_pred_train==y_train)\n",
    "print(\"accuracy of train data=%.2f\" %accuracy)"
   ]
  },
  {
   "cell_type": "code",
   "execution_count": null,
   "metadata": {},
   "outputs": [],
   "source": []
  },
  {
   "cell_type": "code",
   "execution_count": null,
   "metadata": {},
   "outputs": [],
   "source": []
  },
  {
   "cell_type": "code",
   "execution_count": 195,
   "metadata": {},
   "outputs": [
    {
     "name": "stdout",
     "output_type": "stream",
     "text": [
      "Nearest Neighbors\n",
      "accuracy = 0.78\n",
      "Linear SVM\n",
      "accuracy = 0.20\n",
      "RBF SVM\n",
      "accuracy = 0.71\n",
      "Decision Tree\n",
      "accuracy = 0.28\n",
      "Random Forest\n",
      "accuracy = 0.39\n",
      "AdaBoost\n",
      "accuracy = 0.15\n",
      "Naive Bayes\n",
      "accuracy = 0.26\n",
      "LDA\n",
      "accuracy = 0.27\n",
      "QDA\n",
      "accuracy = 0.55\n"
     ]
    }
   ],
   "source": [
    "# All classifiers\n",
    "\n",
    "\n",
    "import numpy as np\n",
    "import matplotlib.pyplot as plt\n",
    "from matplotlib.colors import ListedColormap\n",
    "#from sklearn.cross_validation import train_test_split\n",
    "from sklearn.model_selection import train_test_split\n",
    "from sklearn.metrics import accuracy_score\n",
    "\n",
    "from sklearn.preprocessing import StandardScaler\n",
    "from sklearn.datasets import make_moons, make_circles, make_classification\n",
    "from sklearn.neighbors import KNeighborsClassifier\n",
    "from sklearn.svm import SVC\n",
    "from sklearn.tree import DecisionTreeClassifier\n",
    "from sklearn.ensemble import RandomForestClassifier, AdaBoostClassifier\n",
    "from sklearn.naive_bayes import GaussianNB\n",
    "from sklearn.discriminant_analysis import LinearDiscriminantAnalysis as LDA\n",
    "from sklearn.discriminant_analysis import QuadraticDiscriminantAnalysis as QDA\n",
    "\n",
    "\n",
    "names = [\"Nearest Neighbors\", \"Linear SVM\", \"RBF SVM\", \"Decision Tree\",\n",
    "         \"Random Forest\", \"AdaBoost\", \"Naive Bayes\", \"LDA\", \"QDA\"]\n",
    "classifiers = [\n",
    "    KNeighborsClassifier(3),\n",
    "    SVC(kernel=\"linear\", C=0.025),\n",
    "    SVC(gamma=2, C=1),\n",
    "    DecisionTreeClassifier(max_depth=5),\n",
    "    RandomForestClassifier(max_depth=5, n_estimators=10, max_features=1),\n",
    "    AdaBoostClassifier(),\n",
    "    GaussianNB(),\n",
    "    LDA(),\n",
    "    QDA()]\n",
    "\n",
    "X = StandardScaler().fit_transform(RMS)\n",
    "\n",
    "x_train , x_test,y_train,y_test=train_test_split(RMS , wind_label,test_size=0.25,random_state=42,stratify=wind_label) \n",
    "\n",
    "\n",
    "\n",
    "#X_train, X_test, y_train, y_test = train_test_split(X, y, test_size=.4)\n",
    "# iterate over classifiers\n",
    "for name, clf in zip(names, classifiers):\n",
    "    clf.fit(x_train, y_train)\n",
    "    y_pred=clf.predict(x_test)\n",
    "    print(name)\n",
    "    print(\"accuracy = %.2f\"%accuracy_score(y_test,y_pred))"
   ]
  },
  {
   "cell_type": "code",
   "execution_count": null,
   "metadata": {},
   "outputs": [
    {
     "name": "stdout",
     "output_type": "stream",
     "text": [
      "Nearest Neighbors\n",
      "accuracy = 0.78\n"
     ]
    }
   ],
   "source": [
    "# All classifiers\n",
    "\n",
    "\n",
    "import numpy as np\n",
    "import matplotlib.pyplot as plt\n",
    "from matplotlib.colors import ListedColormap\n",
    "#from sklearn.cross_validation import train_test_split\n",
    "from sklearn.model_selection import train_test_split\n",
    "from sklearn.metrics import accuracy_score\n",
    "\n",
    "from sklearn.preprocessing import StandardScaler\n",
    "from sklearn.datasets import make_moons, make_circles, make_classification\n",
    "from sklearn.neighbors import KNeighborsClassifier\n",
    "from sklearn.svm import SVC\n",
    "from sklearn.tree import DecisionTreeClassifier\n",
    "from sklearn.ensemble import RandomForestClassifier, AdaBoostClassifier\n",
    "from sklearn.naive_bayes import GaussianNB\n",
    "from sklearn.discriminant_analysis import LinearDiscriminantAnalysis as LDA\n",
    "from sklearn.discriminant_analysis import QuadraticDiscriminantAnalysis as QDA\n",
    "\n",
    "\n",
    "names = [\"Nearest Neighbors\", \"Linear SVM\", \"RBF SVM\", \"Decision Tree\",\n",
    "         \"Random Forest\", \"AdaBoost\", \"Naive Bayes\", \"LDA\", \"QDA\"]\n",
    "classifiers = [\n",
    "    KNeighborsClassifier(3),\n",
    "    SVC(kernel=\"linear\", C=0.025),\n",
    "    SVC(gamma=2, C=1),\n",
    "    DecisionTreeClassifier(max_depth=5),\n",
    "    RandomForestClassifier(max_depth=5, n_estimators=10, max_features=1),\n",
    "    AdaBoostClassifier(),\n",
    "    GaussianNB(),\n",
    "    LDA(),\n",
    "    QDA()]\n",
    "\n",
    "X = StandardScaler().fit_transform(emg_17class['data'])\n",
    "\n",
    "x_train , x_test,y_train,y_test=train_test_split(emg_17class['data'] , emg_17class['label'],test_size=0.25,random_state=42,stratify=emg_17class['label']) \n",
    "\n",
    "\n",
    "\n",
    "#X_train, X_test, y_train, y_test = train_test_split(X, y, test_size=.4)\n",
    "# iterate over classifiers\n",
    "for name, clf in zip(names, classifiers):\n",
    "    clf.fit(x_train, y_train)\n",
    "    y_pred=clf.predict(x_test)\n",
    "    print(name)\n",
    "    print(\"accuracy = %.2f\"%accuracy_score(y_test,y_pred))"
   ]
  },
  {
   "cell_type": "code",
   "execution_count": null,
   "metadata": {},
   "outputs": [],
   "source": []
  },
  {
   "cell_type": "code",
   "execution_count": null,
   "metadata": {},
   "outputs": [],
   "source": []
  }
 ],
 "metadata": {
  "kernelspec": {
   "display_name": "Python 3",
   "language": "python",
   "name": "python3"
  },
  "language_info": {
   "codemirror_mode": {
    "name": "ipython",
    "version": 3
   },
   "file_extension": ".py",
   "mimetype": "text/x-python",
   "name": "python",
   "nbconvert_exporter": "python",
   "pygments_lexer": "ipython3",
   "version": "3.7.4"
  }
 },
 "nbformat": 4,
 "nbformat_minor": 2
}
